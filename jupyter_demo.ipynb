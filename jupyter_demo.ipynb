{
 "cells": [
  {
   "cell_type": "code",
   "execution_count": null,
   "metadata": {
    "collapsed": true
   },
   "outputs": [],
   "source": [
    "%matplotlib notebook"
   ]
  },
  {
   "cell_type": "code",
   "execution_count": null,
   "metadata": {
    "collapsed": true
   },
   "outputs": [],
   "source": [
    "%gui qt"
   ]
  },
  {
   "cell_type": "markdown",
   "metadata": {},
   "source": [
    "## Peer Review Demo\n",
    "\n",
    "This demo uses a laptop web camera as an **Ophyd** device to illustrate how **typhon** and a **Jupyter Notebook** can work in tandem to help guide an operator through a specific process\n",
    "\n",
    "First, let us load the laptop and create and automatically create a working display:"
   ]
  },
  {
   "cell_type": "code",
   "execution_count": null,
   "metadata": {
    "collapsed": true
   },
   "outputs": [],
   "source": [
    "from laptop import lp"
   ]
  },
  {
   "cell_type": "markdown",
   "metadata": {},
   "source": [
    "The laptop should be ready to use. Simply calling `trigger` will grab a new image and push it through the facial recognition pipeline"
   ]
  },
  {
   "cell_type": "code",
   "execution_count": null,
   "metadata": {
    "collapsed": true
   },
   "outputs": [],
   "source": [
    "status = lp.trigger()"
   ]
  },
  {
   "cell_type": "markdown",
   "metadata": {},
   "source": [
    "Let's take a look at the image in the notebook real quick using `matplotlib`"
   ]
  },
  {
   "cell_type": "code",
   "execution_count": null,
   "metadata": {
    "scrolled": false
   },
   "outputs": [],
   "source": [
    "import matplotlib.pyplot as plt\n",
    "plt.imshow(lp.image.get())"
   ]
  },
  {
   "cell_type": "markdown",
   "metadata": {},
   "source": [
    "## Display Setup\n",
    "**Typhon** should quickly be able to autogenerate a screen for us. We just have to add it to the suite"
   ]
  },
  {
   "cell_type": "code",
   "execution_count": null,
   "metadata": {},
   "outputs": [],
   "source": [
    "import typhon\n",
    "suite = typhon.TyphonSuite()\n",
    "suite.show()"
   ]
  },
  {
   "cell_type": "code",
   "execution_count": null,
   "metadata": {
    "collapsed": true
   },
   "outputs": [],
   "source": [
    "suite.add_device(lp)\n",
    "suite.show_subdisplay(lp)"
   ]
  },
  {
   "cell_type": "markdown",
   "metadata": {},
   "source": [
    "Not bad, we can do better. Let us load some of the nice templates we made before. In practice, the rules of which devices use which screens will be kept in a common file so this step will be unnecessary. We can also switch to the darker style that ships with **Typhon**"
   ]
  },
  {
   "cell_type": "code",
   "execution_count": null,
   "metadata": {
    "collapsed": true
   },
   "outputs": [],
   "source": [
    "import os.path\n",
    "\n",
    "embedded = os.path.abspath('embedded_screen.ui')\n",
    "detailed = os.path.abspath('detailed_screen.ui')\n",
    "suite.setStyleSheet(\"\"\"\\\n",
    "TyphonDeviceDisplay[device_class='laptop.Laptop']\n",
    "    {{qproperty-force_template: '{}';}}\n",
    "\n",
    "TyphonDeviceDisplay[device_class='laptop.Laptop'][display_type='1']\n",
    "    {{qproperty-force_template: '{}';}}\n",
    "\"\"\".format(embedded, detailed))"
   ]
  },
  {
   "cell_type": "code",
   "execution_count": null,
   "metadata": {},
   "outputs": [],
   "source": [
    "typhon.use_stylesheet(dark=True)"
   ]
  },
  {
   "cell_type": "markdown",
   "metadata": {},
   "source": [
    "## Automated Procedures\n",
    "\n",
    "Besides giving us a nice way to inspect the structure of devices, **Ophyd** also gives a uniform interface to **bluesky**. In other words, since we have implemented the **trigger** function. **bluesky** can use our laptop as a detector in any of its builtin scans. Let's setup a **RunEngine** and check it out"
   ]
  },
  {
   "cell_type": "code",
   "execution_count": null,
   "metadata": {
    "collapsed": true
   },
   "outputs": [],
   "source": [
    "import bluesky.plans as bp\n",
    "from bluesky import RunEngine\n",
    "from bluesky.callbacks import LivePlot\n",
    "from bluesky.utils import install_qt_kicker, install_nb_kicker\n",
    "\n",
    "install_qt_kicker(update_rate=0.01)\n",
    "install_nb_kicker()"
   ]
  },
  {
   "cell_type": "code",
   "execution_count": null,
   "metadata": {
    "scrolled": false
   },
   "outputs": [],
   "source": [
    "RE = RunEngine()\n",
    "face_plot = LivePlot('teddy_laptop_faces')"
   ]
  },
  {
   "cell_type": "markdown",
   "metadata": {},
   "source": [
    "We can contract the ROI that our webcam uses by an arbitrary value either through the command line or through the GUI"
   ]
  },
  {
   "cell_type": "code",
   "execution_count": null,
   "metadata": {
    "collapsed": true
   },
   "outputs": [],
   "source": [
    "lp.h.put(200)"
   ]
  },
  {
   "cell_type": "markdown",
   "metadata": {},
   "source": [
    "Now we are going to execute a very simple scan where we move our ROI vertically downwards. We want to use the laptop as our only detector, and then we can use the **y** configuration attribute to scan from two points with a specified number of steps. We also pass in our plotting callback to give some in-situ feedback"
   ]
  },
  {
   "cell_type": "code",
   "execution_count": null,
   "metadata": {},
   "outputs": [],
   "source": [
    "RE(bp.scan([lp], lp.y, 100, 500, 10), (face_plot))"
   ]
  },
  {
   "cell_type": "markdown",
   "metadata": {},
   "source": [
    "Now we may have a routine that requires some action from the operator. In these cases we often know the end condition we are looking for, just not how to get there. For instance, the scan below will continue taking pictures until we see a U.S President."
   ]
  },
  {
   "cell_type": "code",
   "execution_count": null,
   "metadata": {
    "scrolled": false
   },
   "outputs": [],
   "source": [
    "president_plot = LivePlot('teddy_laptop_presidents')"
   ]
  },
  {
   "cell_type": "code",
   "execution_count": null,
   "metadata": {
    "collapsed": true
   },
   "outputs": [],
   "source": [
    "from plans import wait_for_value"
   ]
  },
  {
   "cell_type": "code",
   "execution_count": null,
   "metadata": {},
   "outputs": [],
   "source": [
    "RE(wait_for_value([lp], 'teddy_laptop_presidents', 1, 0), (face_plot, president_plot))"
   ]
  },
  {
   "cell_type": "code",
   "execution_count": null,
   "metadata": {
    "collapsed": true
   },
   "outputs": [],
   "source": []
  }
 ],
 "metadata": {
  "kernelspec": {
   "display_name": "Python 3",
   "language": "python",
   "name": "python3"
  },
  "language_info": {
   "codemirror_mode": {
    "name": "ipython",
    "version": 3
   },
   "file_extension": ".py",
   "mimetype": "text/x-python",
   "name": "python",
   "nbconvert_exporter": "python",
   "pygments_lexer": "ipython3",
   "version": "3.6.5"
  }
 },
 "nbformat": 4,
 "nbformat_minor": 2
}
